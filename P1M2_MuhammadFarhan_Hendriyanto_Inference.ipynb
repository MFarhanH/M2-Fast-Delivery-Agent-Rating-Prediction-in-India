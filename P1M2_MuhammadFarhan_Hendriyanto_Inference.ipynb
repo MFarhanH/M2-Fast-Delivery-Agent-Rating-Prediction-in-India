{
 "cells": [
  {
   "cell_type": "markdown",
   "id": "f9262bd4",
   "metadata": {},
   "source": [
    "# i. Perkenalan\n",
    "\n",
    "- Nama = Muhammad Farhan Hendriyanto\n",
    "- Batch = HCK-027\n",
    "\n",
    "- Tujuan = Sebagai inference dari Milestone 2\n"
   ]
  },
  {
   "cell_type": "markdown",
   "id": "e5344bee",
   "metadata": {},
   "source": [
    "# ii. Import Libraries"
   ]
  },
  {
   "cell_type": "code",
   "execution_count": 1,
   "id": "7113c68e",
   "metadata": {},
   "outputs": [],
   "source": [
    "# import libraries\n",
    "import pickle\n",
    "import pandas as pd"
   ]
  },
  {
   "cell_type": "markdown",
   "id": "e777dbf4",
   "metadata": {},
   "source": [
    "# iii. Load Model"
   ]
  },
  {
   "cell_type": "code",
   "execution_count": 3,
   "id": "316ef51f",
   "metadata": {},
   "outputs": [],
   "source": [
    "# get data\n",
    "with open('D:/Hacktiv8/Phase 1/Milestone 1/p1-ftds027-hck-m2-MFarhanH/randomforest_regression_best.pkl', 'rb') as file:\n",
    "    model_fe = pickle.load(file)"
   ]
  },
  {
   "cell_type": "markdown",
   "id": "356b95a4",
   "metadata": {},
   "source": [
    "# iv. Input data"
   ]
  },
  {
   "cell_type": "code",
   "execution_count": null,
   "id": "87f693a7",
   "metadata": {},
   "outputs": [
    {
     "data": {
      "text/html": [
       "<div>\n",
       "<style scoped>\n",
       "    .dataframe tbody tr th:only-of-type {\n",
       "        vertical-align: middle;\n",
       "    }\n",
       "\n",
       "    .dataframe tbody tr th {\n",
       "        vertical-align: top;\n",
       "    }\n",
       "\n",
       "    .dataframe thead th {\n",
       "        text-align: right;\n",
       "    }\n",
       "</style>\n",
       "<table border=\"1\" class=\"dataframe\">\n",
       "  <thead>\n",
       "    <tr style=\"text-align: right;\">\n",
       "      <th></th>\n",
       "      <th>Agent Name</th>\n",
       "      <th>Delivery Time</th>\n",
       "      <th>Location</th>\n",
       "      <th>Order Type</th>\n",
       "      <th>Customer Feedback Type</th>\n",
       "      <th>Price Range</th>\n",
       "      <th>Discount Applied</th>\n",
       "      <th>Product Availability</th>\n",
       "      <th>Customer Service Rating</th>\n",
       "      <th>Order Accuracy</th>\n",
       "    </tr>\n",
       "  </thead>\n",
       "  <tbody>\n",
       "    <tr>\n",
       "      <th>0</th>\n",
       "      <td>Swiggy Instamart</td>\n",
       "      <td>42</td>\n",
       "      <td>Kolkata</td>\n",
       "      <td>Pharmacy</td>\n",
       "      <td>Negative</td>\n",
       "      <td>Medium</td>\n",
       "      <td>Yes</td>\n",
       "      <td>Out of Stock</td>\n",
       "      <td>1</td>\n",
       "      <td>Correct</td>\n",
       "    </tr>\n",
       "  </tbody>\n",
       "</table>\n",
       "</div>"
      ],
      "text/plain": [
       "         Agent Name  Delivery Time Location Order Type Customer Feedback Type  \\\n",
       "0  Swiggy Instamart             42  Kolkata   Pharmacy               Negative   \n",
       "\n",
       "  Price Range Discount Applied Product Availability  Customer Service Rating  \\\n",
       "0      Medium              Yes         Out of Stock                        1   \n",
       "\n",
       "  Order Accuracy  \n",
       "0        Correct  "
      ]
     },
     "execution_count": 4,
     "metadata": {},
     "output_type": "execute_result"
    }
   ],
   "source": [
    "#create new data\n",
    "\n",
    "data_inf_1 = {\n",
    "\n",
    "\n",
    "'Agent Name': 'Swiggy Instamart',\n",
    " 'Delivery Time': 42,\n",
    " 'Location': 'Kolkata',\n",
    " 'Order Type': 'Pharmacy',\n",
    " 'Customer Feedback Type':'Negative',\n",
    " 'Price Range':'Medium',\n",
    " 'Discount Applied': 'Yes',\n",
    " 'Product Availability':'Out of Stock',\n",
    " 'Customer Service Rating': 1,\n",
    " 'Order Accuracy':'Correct'\n",
    "}\n",
    "\n",
    "data_inf_2 = {\n",
    "\n",
    "'Agent Name': 'Zepto',\n",
    " 'Delivery Time': 22,\n",
    " 'Location': 'Jaipur',\n",
    " 'Order Type': 'Pharmacy',\n",
    " 'Customer Feedback Type':'Positive',\n",
    " 'Price Range':'Medium',\n",
    " 'Discount Applied': 'No',\n",
    " 'Product Availability':'Out of Stock',\n",
    " 'Customer Service Rating': 5,\n",
    " 'Order Accuracy':'Incorrect'\n",
    "}\n",
    "\n",
    "data_inf1 = pd.DataFrame([data_inf_1])\n",
    "data_inf1"
   ]
  },
  {
   "cell_type": "code",
   "execution_count": 5,
   "id": "4302cfb3",
   "metadata": {},
   "outputs": [
    {
     "data": {
      "text/html": [
       "<div>\n",
       "<style scoped>\n",
       "    .dataframe tbody tr th:only-of-type {\n",
       "        vertical-align: middle;\n",
       "    }\n",
       "\n",
       "    .dataframe tbody tr th {\n",
       "        vertical-align: top;\n",
       "    }\n",
       "\n",
       "    .dataframe thead th {\n",
       "        text-align: right;\n",
       "    }\n",
       "</style>\n",
       "<table border=\"1\" class=\"dataframe\">\n",
       "  <thead>\n",
       "    <tr style=\"text-align: right;\">\n",
       "      <th></th>\n",
       "      <th>Agent Name</th>\n",
       "      <th>Delivery Time</th>\n",
       "      <th>Location</th>\n",
       "      <th>Order Type</th>\n",
       "      <th>Customer Feedback Type</th>\n",
       "      <th>Price Range</th>\n",
       "      <th>Discount Applied</th>\n",
       "      <th>Product Availability</th>\n",
       "      <th>Customer Service Rating</th>\n",
       "      <th>Order Accuracy</th>\n",
       "    </tr>\n",
       "  </thead>\n",
       "  <tbody>\n",
       "    <tr>\n",
       "      <th>0</th>\n",
       "      <td>Zepto</td>\n",
       "      <td>22</td>\n",
       "      <td>Jaipur</td>\n",
       "      <td>Pharmacy</td>\n",
       "      <td>Positive</td>\n",
       "      <td>Medium</td>\n",
       "      <td>No</td>\n",
       "      <td>Out of Stock</td>\n",
       "      <td>5</td>\n",
       "      <td>Incorrect</td>\n",
       "    </tr>\n",
       "  </tbody>\n",
       "</table>\n",
       "</div>"
      ],
      "text/plain": [
       "  Agent Name  Delivery Time Location Order Type Customer Feedback Type  \\\n",
       "0      Zepto             22   Jaipur   Pharmacy               Positive   \n",
       "\n",
       "  Price Range Discount Applied Product Availability  Customer Service Rating  \\\n",
       "0      Medium               No         Out of Stock                        5   \n",
       "\n",
       "  Order Accuracy  \n",
       "0      Incorrect  "
      ]
     },
     "execution_count": 5,
     "metadata": {},
     "output_type": "execute_result"
    }
   ],
   "source": [
    "data_inf2 = pd.DataFrame([data_inf_2])\n",
    "data_inf2"
   ]
  },
  {
   "cell_type": "markdown",
   "id": "55efb246",
   "metadata": {},
   "source": [
    "# v. Predict data"
   ]
  },
  {
   "cell_type": "code",
   "execution_count": 6,
   "id": "b232c2ca",
   "metadata": {},
   "outputs": [
    {
     "name": "stdout",
     "output_type": "stream",
     "text": [
      "3\n"
     ]
    },
    {
     "name": "stderr",
     "output_type": "stream",
     "text": [
      "C:\\Users\\farha\\AppData\\Local\\Temp\\ipykernel_15916\\4043218822.py:3: DeprecationWarning: Conversion of an array with ndim > 0 to a scalar is deprecated, and will error in future. Ensure you extract a single element from your array before performing this operation. (Deprecated NumPy 1.25.)\n",
      "  print(f'{int(y_pred_inf):,.0f}')\n"
     ]
    }
   ],
   "source": [
    "#predict using lin reg\n",
    "y_pred_inf = model_fe.predict(data_inf1)\n",
    "print(f'{int(y_pred_inf):,.0f}')"
   ]
  },
  {
   "cell_type": "code",
   "execution_count": 7,
   "id": "0da9222f",
   "metadata": {},
   "outputs": [
    {
     "name": "stdout",
     "output_type": "stream",
     "text": [
      "2\n"
     ]
    },
    {
     "name": "stderr",
     "output_type": "stream",
     "text": [
      "C:\\Users\\farha\\AppData\\Local\\Temp\\ipykernel_15916\\4032646362.py:3: DeprecationWarning: Conversion of an array with ndim > 0 to a scalar is deprecated, and will error in future. Ensure you extract a single element from your array before performing this operation. (Deprecated NumPy 1.25.)\n",
      "  print(f'{int(y_pred_inf):,.0f}')\n"
     ]
    }
   ],
   "source": [
    "#predict using lin reg\n",
    "y_pred_inf = model_fe.predict(data_inf2)\n",
    "print(f'{int(y_pred_inf):,.0f}')"
   ]
  },
  {
   "cell_type": "markdown",
   "id": "30046427",
   "metadata": {},
   "source": [
    "# vi. Kesimpulan\n",
    "Kesimpulannya adalah model sudah bisa berfungsi dan memebrikan output, namun sayang masih bisa dikatakan overfitt karena model memiliki performan yang lebih baik pada saat melakukan training."
   ]
  }
 ],
 "metadata": {
  "kernelspec": {
   "display_name": "Python 3",
   "language": "python",
   "name": "python3"
  },
  "language_info": {
   "codemirror_mode": {
    "name": "ipython",
    "version": 3
   },
   "file_extension": ".py",
   "mimetype": "text/x-python",
   "name": "python",
   "nbconvert_exporter": "python",
   "pygments_lexer": "ipython3",
   "version": "3.11.1"
  }
 },
 "nbformat": 4,
 "nbformat_minor": 5
}
